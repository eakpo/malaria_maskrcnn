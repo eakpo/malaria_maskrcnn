{
 "cells": [
  {
   "cell_type": "code",
   "execution_count": 4,
   "metadata": {},
   "outputs": [],
   "source": [
    "import os\n",
    "import shutil\n",
    "import glob\n",
    "import json\n",
    "\n",
    "# Path to the folder with all the annotations\n",
    "train_paths = ['pf/train/pf_train_json.json', 'pm/train/pm_train_json.json', 'po/train/po_train_json.json','pv/train/pv_train_json.json']\n",
    "val_paths = ['pf/val/pf_val_json.json', 'pm/val/pm_val_json.json', 'po/val/po_val_json.json','pv/val/pv_val_json.json']\n",
    "# test path with images  move all test images to combine_annot test folder\n",
    "test_paths = ['pf/test/', 'pm/test/', 'po/test/','pv/test/']\n",
    "\n",
    "\n",
    "# Create folders to save combined annotations and images\n",
    "os.makedirs('combined_annot/train', exist_ok=True)\n",
    "os.makedirs('combined_annot/val', exist_ok=True)\n",
    "os.makedirs('combined_images/test', exist_ok=True)\n",
    "\n",
    "def combine_vgg_annotations(paths, output_path):\n",
    "    combined_annotations = {}\n",
    "\n",
    "    for path in paths:\n",
    "        with open(path) as f:\n",
    "            annotations = json.load(f)\n",
    "            combined_annotations.update(annotations)\n",
    "\n",
    "    with open(output_path, 'w') as output_file:\n",
    "        json.dump(combined_annotations, output_file, indent=4)\n",
    "\n",
    "# Combine train annotations\n",
    "combine_vgg_annotations(train_paths, 'combined_annot/train/combined_train_vgg.json')\n",
    "\n",
    "# Combine val annotations\n",
    "combine_vgg_annotations(val_paths, 'combined_annot/val/combined_val_vgg.json')\n",
    "\n",
    "# Copy images to the combined folder\n",
    "for paths in [train_paths, val_paths]:\n",
    "    for path in paths:\n",
    "        for img in glob.glob(os.path.join(os.path.dirname(path), '*.jpg')):\n",
    "            img_name = os.path.basename(img)\n",
    "            shutil.copy(img, os.path.join('combined_annot', 'train' if 'train' in path else 'val', img_name))\n",
    "\n",
    "# move all images in test folders of pf pm po pv  to combine annot test folder\n",
    "for path in test_paths:\n",
    "    for img in glob.glob(os.path.join(path, '*.jpg')):\n",
    "        img_name = os.path.basename(img)\n",
    "        shutil.copy(img, os.path.join('combined_annot', 'test', img_name))\n",
    "\n"
   ]
  },
  {
   "cell_type": "code",
   "execution_count": null,
   "metadata": {},
   "outputs": [],
   "source": []
  }
 ],
 "metadata": {
  "kernelspec": {
   "display_name": "Python 3",
   "language": "python",
   "name": "python3"
  },
  "language_info": {
   "codemirror_mode": {
    "name": "ipython",
    "version": 3
   },
   "file_extension": ".py",
   "mimetype": "text/x-python",
   "name": "python",
   "nbconvert_exporter": "python",
   "pygments_lexer": "ipython3",
   "version": "3.10.6"
  }
 },
 "nbformat": 4,
 "nbformat_minor": 2
}
